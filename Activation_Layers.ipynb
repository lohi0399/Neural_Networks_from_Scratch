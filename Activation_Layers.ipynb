{
 "cells": [
  {
   "cell_type": "code",
   "execution_count": 6,
   "metadata": {},
   "outputs": [
    {
     "name": "stdout",
     "output_type": "stream",
     "text": [
      "(2, 4)\n"
     ]
    }
   ],
   "source": [
    "import numpy as np\n",
    "\n",
    "inputs= np.array([[1, 2, 3, 2.5],[2., 5., -1.,2]])\n",
    "print(inputs.shape)"
   ]
  },
  {
   "cell_type": "code",
   "execution_count": null,
   "metadata": {},
   "outputs": [
    {
     "name": "stdout",
     "output_type": "stream",
     "text": [
      "[[0.06414769 0.17437149 0.47399085 0.28748998]\n",
      " [0.04517666 0.90739747 0.00224921 0.04517666]\n",
      " [0.00522984 0.34875873 0.63547983 0.0105316 ]]\n"
     ]
    }
   ],
   "source": [
    "# Practice\n",
    "\n",
    "import numpy as np\n",
    "\n",
    "exp_values = np.exp(inputs - np.max(inputs,axis=1, keepdims=True))\n",
    "probabilites = exp_values / np.sum(exp_values,axis=1,keepdims=True)\n",
    "print(probabilites)"
   ]
  },
  {
   "cell_type": "code",
   "execution_count": 5,
   "metadata": {},
   "outputs": [
    {
     "name": "stdout",
     "output_type": "stream",
     "text": [
      "(2, 4)\n"
     ]
    }
   ],
   "source": [
    "test = np.random.randn(2,4)\n",
    "print(test.shape)"
   ]
  },
  {
   "cell_type": "code",
   "execution_count": 11,
   "metadata": {},
   "outputs": [
    {
     "data": {
      "text/plain": [
       "(8,)"
      ]
     },
     "execution_count": 11,
     "metadata": {},
     "output_type": "execute_result"
    }
   ],
   "source": [
    "# ReLU Acctivation Function\n",
    "\n",
    "import numpy as np\n",
    "\n",
    "inputs = [0,2,-1,3.3,-2.7,1.1,2.2,-100]\n",
    "output = np.maximum(0,inputs)\n",
    "output.shape # Shape of (8,) means basically a shape of (1,8)"
   ]
  },
  {
   "cell_type": "code",
   "execution_count": 22,
   "metadata": {},
   "outputs": [],
   "source": [
    "class Activaton_ReLU:\n",
    "    # Forward Pass\n",
    "    def forward(self, inputs):\n",
    "        # Calculate output values from input\n",
    "        self.output = np.maximum(0, inputs)\n",
    "        "
   ]
  },
  {
   "cell_type": "code",
   "execution_count": 23,
   "metadata": {},
   "outputs": [
    {
     "name": "stdout",
     "output_type": "stream",
     "text": [
      "(300, 2)\n",
      "(300,)\n"
     ]
    }
   ],
   "source": [
    "import nnfs\n",
    "from nnfs.datasets import spiral_data\n",
    "nnfs.init()\n",
    "\n",
    "X, y = spiral_data(samples=100, classes=3)\n",
    "print(X.shape)\n",
    "print(y.shape)"
   ]
  },
  {
   "cell_type": "code",
   "execution_count": 26,
   "metadata": {},
   "outputs": [
    {
     "name": "stdout",
     "output_type": "stream",
     "text": [
      "(2, 3)\n"
     ]
    }
   ],
   "source": [
    "%run dense_layer.ipynb # This is the magic command to use the function from other juypter notebooks"
   ]
  },
  {
   "cell_type": "code",
   "execution_count": 30,
   "metadata": {},
   "outputs": [
    {
     "name": "stdout",
     "output_type": "stream",
     "text": [
      "(2, 3)\n"
     ]
    },
    {
     "data": {
      "text/plain": [
       "array([[ 0.0000000e+00,  0.0000000e+00,  0.0000000e+00],\n",
       "       [ 1.8302801e-04, -7.7334560e-05,  8.6269654e-05],\n",
       "       [ 2.0213184e-04, -1.4989771e-04,  1.2648919e-04],\n",
       "       [-2.4653360e-04, -1.2495469e-04, -5.3032099e-06],\n",
       "       [-2.4447130e-04, -1.8850621e-04,  2.6007254e-05]], dtype=float32)"
      ]
     },
     "execution_count": 30,
     "metadata": {},
     "output_type": "execute_result"
    }
   ],
   "source": [
    "dense1 = Layer_Dense(2,3)\n",
    "dense1.forward(X)\n",
    "dense1.output[:5]"
   ]
  },
  {
   "cell_type": "code",
   "execution_count": 35,
   "metadata": {},
   "outputs": [
    {
     "name": "stdout",
     "output_type": "stream",
     "text": [
      "[[0.0000000e+00 0.0000000e+00 0.0000000e+00]\n",
      " [1.8302801e-04 0.0000000e+00 8.6269654e-05]\n",
      " [2.0213184e-04 0.0000000e+00 1.2648919e-04]\n",
      " [0.0000000e+00 0.0000000e+00 0.0000000e+00]\n",
      " [0.0000000e+00 0.0000000e+00 2.6007254e-05]]\n"
     ]
    }
   ],
   "source": [
    "act = Activaton_ReLU()\n",
    "act.forward(dense1.output)\n",
    "print(act.output[:5])"
   ]
  },
  {
   "cell_type": "code",
   "execution_count": null,
   "metadata": {},
   "outputs": [],
   "source": [
    "class Softmax:\n",
    "    \n",
    "    def forward(self,inputs):\n",
    "        norm = np.sum(np.exp(inputs),axis=1,keepdims=True)\n",
    "        self.output = np.exp(inputs) / norm"
   ]
  },
  {
   "cell_type": "code",
   "execution_count": null,
   "metadata": {},
   "outputs": [
    {
     "name": "stdout",
     "output_type": "stream",
     "text": [
      "[[0.33333334 0.33333334 0.33333334]\n",
      " [0.333373   0.33328623 0.33334076]\n",
      " [0.33338085 0.3332635  0.33335564]\n",
      " [0.33329302 0.33333355 0.33337343]\n",
      " [0.33329707 0.3333157  0.33338723]]\n"
     ]
    }
   ],
   "source": [
    "soft = Softmax()\n",
    "soft.forward(dense1.output) \n",
    "print(soft.output[:5])"
   ]
  },
  {
   "cell_type": "code",
   "execution_count": null,
   "metadata": {},
   "outputs": [
    {
     "name": "stdout",
     "output_type": "stream",
     "text": [
      "[[inf inf inf]]\n"
     ]
    },
    {
     "name": "stderr",
     "output_type": "stream",
     "text": [
      "C:\\Users\\loghi\\AppData\\Local\\Temp\\ipykernel_14808\\3983015485.py:3: RuntimeWarning: overflow encountered in exp\n",
      "  print(np.exp(inputs))  # This can cause an overflow error\n"
     ]
    }
   ],
   "source": [
    "import numpy as np\n",
    "inputs = np.array([[1000, 1001, 1002]])\n",
    "print(np.exp(inputs))  # This can cause an overflow error --> Therefore we subtract with the maximum value for numberical stability --> a^(n - m) = a^n/a^m\n"
   ]
  },
  {
   "cell_type": "code",
   "execution_count": null,
   "metadata": {},
   "outputs": [],
   "source": [
    "# Better implementation of softmax:\n",
    "\n",
    "class SoftMax:\n",
    "    \n",
    "    def forward(self,inputs):\n",
    "        stable_exp = np.exp(inputs - np.max(inputs,axis=1,keepdims=True))\n",
    "        self.output = stable_exp / np.sum(stable_exp,axis=1,keepdims=True)"
   ]
  },
  {
   "cell_type": "code",
   "execution_count": 40,
   "metadata": {},
   "outputs": [
    {
     "name": "stdout",
     "output_type": "stream",
     "text": [
      "[[0.33333334 0.33333334 0.33333334]\n",
      " [0.333373   0.33328623 0.33334076]\n",
      " [0.33338085 0.3332635  0.33335564]\n",
      " [0.33329302 0.33333355 0.33337343]\n",
      " [0.33329707 0.3333157  0.33338723]]\n"
     ]
    }
   ],
   "source": [
    "softM = SoftMax()\n",
    "softM.forward(dense1.output) \n",
    "print(softM.output[:5])"
   ]
  },
  {
   "cell_type": "code",
   "execution_count": null,
   "metadata": {},
   "outputs": [],
   "source": []
  }
 ],
 "metadata": {
  "kernelspec": {
   "display_name": "Python 3",
   "language": "python",
   "name": "python3"
  },
  "language_info": {
   "codemirror_mode": {
    "name": "ipython",
    "version": 3
   },
   "file_extension": ".py",
   "mimetype": "text/x-python",
   "name": "python",
   "nbconvert_exporter": "python",
   "pygments_lexer": "ipython3",
   "version": "3.10.11"
  }
 },
 "nbformat": 4,
 "nbformat_minor": 2
}
